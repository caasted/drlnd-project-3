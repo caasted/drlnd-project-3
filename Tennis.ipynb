{
 "cells": [
  {
   "cell_type": "markdown",
   "metadata": {},
   "source": [
    "# Collaboration and Competition\n",
    "\n",
    "---\n",
    "\n",
    "In this notebook, you will learn how to use the Unity ML-Agents environment for the third project of the [Deep Reinforcement Learning Nanodegree](https://www.udacity.com/course/deep-reinforcement-learning-nanodegree--nd893) program.\n",
    "\n",
    "### 1. Start the Environment\n",
    "\n",
    "We begin by importing the necessary packages.  If the code cell below returns an error, please revisit the project instructions to double-check that you have installed [Unity ML-Agents](https://github.com/Unity-Technologies/ml-agents/blob/master/docs/Installation.md) and [NumPy](http://www.numpy.org/)."
   ]
  },
  {
   "cell_type": "code",
   "execution_count": 1,
   "metadata": {},
   "outputs": [],
   "source": [
    "from unityagents import UnityEnvironment\n",
    "import numpy as np"
   ]
  },
  {
   "cell_type": "markdown",
   "metadata": {},
   "source": [
    "Next, we will start the environment!  **_Before running the code cell below_**, change the `file_name` parameter to match the location of the Unity environment that you downloaded.\n",
    "\n",
    "- **Mac**: `\"path/to/Tennis.app\"`\n",
    "- **Windows** (x86): `\"path/to/Tennis_Windows_x86/Tennis.exe\"`\n",
    "- **Windows** (x86_64): `\"path/to/Tennis_Windows_x86_64/Tennis.exe\"`\n",
    "- **Linux** (x86): `\"path/to/Tennis_Linux/Tennis.x86\"`\n",
    "- **Linux** (x86_64): `\"path/to/Tennis_Linux/Tennis.x86_64\"`\n",
    "- **Linux** (x86, headless): `\"path/to/Tennis_Linux_NoVis/Tennis.x86\"`\n",
    "- **Linux** (x86_64, headless): `\"path/to/Tennis_Linux_NoVis/Tennis.x86_64\"`\n",
    "\n",
    "For instance, if you are using a Mac, then you downloaded `Tennis.app`.  If this file is in the same folder as the notebook, then the line below should appear as follows:\n",
    "```\n",
    "env = UnityEnvironment(file_name=\"Tennis.app\")\n",
    "```"
   ]
  },
  {
   "cell_type": "code",
   "execution_count": 2,
   "metadata": {},
   "outputs": [
    {
     "name": "stderr",
     "output_type": "stream",
     "text": [
      "INFO:unityagents:\n",
      "'Academy' started successfully!\n",
      "Unity Academy name: Academy\n",
      "        Number of Brains: 1\n",
      "        Number of External Brains : 1\n",
      "        Lesson number : 0\n",
      "        Reset Parameters :\n",
      "\t\t\n",
      "Unity brain name: TennisBrain\n",
      "        Number of Visual Observations (per agent): 0\n",
      "        Vector Observation space type: continuous\n",
      "        Vector Observation space size (per agent): 8\n",
      "        Number of stacked Vector Observation: 3\n",
      "        Vector Action space type: continuous\n",
      "        Vector Action space size (per agent): 2\n",
      "        Vector Action descriptions: , \n"
     ]
    }
   ],
   "source": [
    "env = UnityEnvironment(file_name=\"Tennis_Linux/Tennis.x86_64\")"
   ]
  },
  {
   "cell_type": "markdown",
   "metadata": {},
   "source": [
    "Environments contain **_brains_** which are responsible for deciding the actions of their associated agents. Here we check for the first brain available, and set it as the default brain we will be controlling from Python."
   ]
  },
  {
   "cell_type": "code",
   "execution_count": 3,
   "metadata": {},
   "outputs": [],
   "source": [
    "# get the default brain\n",
    "brain_name = env.brain_names[0]\n",
    "brain = env.brains[brain_name]"
   ]
  },
  {
   "cell_type": "markdown",
   "metadata": {},
   "source": [
    "### 2. Examine the State and Action Spaces\n",
    "\n",
    "In this environment, two agents control rackets to bounce a ball over a net. If an agent hits the ball over the net, it receives a reward of +0.1.  If an agent lets a ball hit the ground or hits the ball out of bounds, it receives a reward of -0.01.  Thus, the goal of each agent is to keep the ball in play.\n",
    "\n",
    "The observation space consists of 8 variables corresponding to the position and velocity of the ball and racket. Two continuous actions are available, corresponding to movement toward (or away from) the net, and jumping. \n",
    "\n",
    "Run the code cell below to print some information about the environment."
   ]
  },
  {
   "cell_type": "code",
   "execution_count": 4,
   "metadata": {},
   "outputs": [
    {
     "name": "stdout",
     "output_type": "stream",
     "text": [
      "Number of agents: 2\n",
      "Size of each action: 2\n",
      "There are 2 agents. Each observes a state with length: 24\n",
      "The state for the first agent looks like: [ 0.          0.          0.          0.          0.          0.\n",
      "  0.          0.          0.          0.          0.          0.\n",
      "  0.          0.          0.          0.         -6.65278625 -1.5\n",
      " -0.          0.          6.83172083  6.         -0.          0.        ]\n"
     ]
    }
   ],
   "source": [
    "# reset the environment\n",
    "env_info = env.reset(train_mode=True)[brain_name]\n",
    "\n",
    "# number of agents \n",
    "num_agents = len(env_info.agents)\n",
    "print('Number of agents:', num_agents)\n",
    "\n",
    "# size of each action\n",
    "action_size = brain.vector_action_space_size\n",
    "print('Size of each action:', action_size)\n",
    "\n",
    "# examine the state space \n",
    "states = env_info.vector_observations\n",
    "state_size = states.shape[1]\n",
    "print('There are {} agents. Each observes a state with length: {}'.format(states.shape[0], state_size))\n",
    "print('The state for the first agent looks like:', states[0])"
   ]
  },
  {
   "cell_type": "markdown",
   "metadata": {},
   "source": [
    "### 3. Take Random Actions in the Environment\n",
    "\n",
    "In the next code cell, you will learn how to use the Python API to control the agents and receive feedback from the environment.\n",
    "\n",
    "Once this cell is executed, you will watch the agents' performance, if they select actions at random with each time step.  A window should pop up that allows you to observe the agents.\n",
    "\n",
    "Of course, as part of the project, you'll have to change the code so that the agents are able to use their experiences to gradually choose better actions when interacting with the environment!"
   ]
  },
  {
   "cell_type": "code",
   "execution_count": 5,
   "metadata": {},
   "outputs": [],
   "source": [
    "def random_agent():\n",
    "    for i in range(1, 6):                                      # play game for 5 episodes\n",
    "        env_info = env.reset(train_mode=False)[brain_name]     # reset the environment    \n",
    "        states = env_info.vector_observations                  # get the current state (for each agent)\n",
    "        scores = np.zeros(num_agents)                          # initialize the score (for each agent)\n",
    "        while True:\n",
    "            actions = np.random.randn(num_agents, action_size) # select an action (for each agent)\n",
    "            actions = np.clip(actions, -1, 1)                  # all actions between -1 and 1\n",
    "            env_info = env.step(actions)[brain_name]           # send all actions to tne environment\n",
    "            next_states = env_info.vector_observations         # get next state (for each agent)\n",
    "            rewards = env_info.rewards                         # get reward (for each agent)\n",
    "            dones = env_info.local_done                        # see if episode finished\n",
    "            scores += env_info.rewards                         # update the score (for each agent)\n",
    "            states = next_states                               # roll over states to next time step\n",
    "            if np.any(dones):                                  # exit loop if episode finished\n",
    "                break\n",
    "        print('Score (max over agents) from episode {}: {}'.format(i, np.max(scores)))"
   ]
  },
  {
   "cell_type": "markdown",
   "metadata": {},
   "source": [
    "When finished, you can close the environment."
   ]
  },
  {
   "cell_type": "code",
   "execution_count": 6,
   "metadata": {},
   "outputs": [],
   "source": [
    "# random_agent()\n",
    "# env.close()"
   ]
  },
  {
   "cell_type": "markdown",
   "metadata": {},
   "source": [
    "### 4. It's Your Turn!\n",
    "\n",
    "Now it's your turn to train your own agent to solve the environment!  When training the environment, set `train_mode=True`, so that the line for resetting the environment looks like the following:\n",
    "```python\n",
    "env_info = env.reset(train_mode=True)[brain_name]\n",
    "```"
   ]
  },
  {
   "cell_type": "code",
   "execution_count": 7,
   "metadata": {},
   "outputs": [],
   "source": [
    "import random\n",
    "import torch\n",
    "from collections import deque\n",
    "import matplotlib.pyplot as plt\n",
    "%matplotlib inline\n",
    "\n",
    "from ddpg_agent import Agent"
   ]
  },
  {
   "cell_type": "code",
   "execution_count": 8,
   "metadata": {},
   "outputs": [
    {
     "name": "stdout",
     "output_type": "stream",
     "text": [
      "Using device:  cuda:0\n"
     ]
    }
   ],
   "source": [
    "device = torch.device(\"cuda:0\" if torch.cuda.is_available() else \"cpu\")\n",
    "print(\"Using device: \", device)"
   ]
  },
  {
   "cell_type": "code",
   "execution_count": 9,
   "metadata": {},
   "outputs": [],
   "source": [
    "agent_0 = Agent(state_size=state_size, action_size=action_size, random_seed=2) # instantiate the first agent\n",
    "agent_1 = Agent(state_size=state_size, action_size=action_size, random_seed=2) # instantiate the second agent\n",
    "agents = [agent_0, agent_1]"
   ]
  },
  {
   "cell_type": "code",
   "execution_count": 10,
   "metadata": {},
   "outputs": [],
   "source": [
    "def ddpg(n_episodes=1000, max_t=1000, print_every=100, previous_episodes=0):\n",
    "    scores_deque = deque(maxlen=print_every)\n",
    "    scores_history = []\n",
    "    for i_episode in range(1, n_episodes+1):\n",
    "        env_info = env.reset(train_mode=True)[brain_name]      # reset the environment\n",
    "        states = env_info.vector_observations                  # get the current state (for each agent)\n",
    "        for agent in agents:\n",
    "            agent.reset()\n",
    "        scores = np.zeros(num_agents)                          # initialize the score (for each agent)\n",
    "        for t in range(max_t):\n",
    "            actions = agent_0.act(states, add_noise=False)\n",
    "            actions[1] = agent_1.act(states, add_noise=False)[1]  # Overwrite with second agent's actions\n",
    "            \n",
    "            env_info = env.step(actions)[brain_name]              # send all actions to tne environment\n",
    "            next_states = env_info.vector_observations            # get next state (for each agent)\n",
    "            rewards = env_info.rewards                            # get reward (for each agent)\n",
    "            dones = env_info.local_done                           # see if episode finished\n",
    "            scores += env_info.rewards                            # update the score (for each agent)\n",
    "\n",
    "            for a_i, agent in enumerate(agents):\n",
    "                agent.step(states[a_i], actions[a_i], rewards[a_i], next_states[a_i], dones[a_i]) # Train individually\n",
    "\n",
    "            states = next_states                                  # roll over states to next time step\n",
    "\n",
    "            if np.any(dones):                                     # exit loop if episode finished\n",
    "                break\n",
    "\n",
    "        scores_deque.append(np.max(scores))\n",
    "        scores_history.append(np.max(scores))\n",
    "        print('\\rEpisode {}\\tAverage Max Score: {:.2f}\\tAgent 0 Score: {:.2f}\\tAgent 1 Score: {:.2f}'.format(\n",
    "            i_episode, np.mean(scores_deque), scores[0], scores[1]), end=\"\")\n",
    "        if i_episode % print_every == 0 or i_episode == n_episodes:\n",
    "            print('\\rEpisode {}\\tAverage Max Score: {:.2f}'.format(i_episode, np.mean(scores_deque)))\n",
    "            for a_i, agent in enumerate(agents):\n",
    "                torch.save(agent.actor_local.state_dict(), 'checkpoints/checkpoint_actor_{}_{}.pth'.format(\n",
    "                    a_i, i_episode + previous_episodes))\n",
    "                torch.save(agent.critic_local.state_dict(), 'checkpoints/checkpoint_critic_{}_{}.pth'.format(\n",
    "                    a_i, i_episode + previous_episodes))\n",
    "        if i_episode > 100 and np.mean(scores_deque) > 0.5:\n",
    "            print('\\nEnvironment solved in {} episodes'.format(previous_episodes + i_episode - 100))\n",
    "            print('\\nEpisode {}\\tAverage Max Score: {:.2f}'.format(i_episode, np.mean(scores_deque)))\n",
    "            for a_i, agent in enumerate(agents):\n",
    "                torch.save(agent.actor_local.state_dict(), 'checkpoints/checkpoint_actor_{}_{}.pth'.format(\n",
    "                    a_i, i_episode + previous_episodes))\n",
    "                torch.save(agent.critic_local.state_dict(), 'checkpoints/checkpoint_critic_{}_{}.pth'.format(\n",
    "                    a_i, i_episode + previous_episodes))\n",
    "            break\n",
    "            \n",
    "    return scores_history"
   ]
  },
  {
   "cell_type": "code",
   "execution_count": 11,
   "metadata": {},
   "outputs": [],
   "source": [
    "def load_agents(episode):\n",
    "    # Load the trained agents\n",
    "    agent_0.actor_local.load_state_dict(torch.load('checkpoints/checkpoint_actor_0_{}.pth'.format(episode)))\n",
    "    agent_0.actor_target.load_state_dict(torch.load('checkpoints/checkpoint_actor_0_{}.pth'.format(episode)))\n",
    "    agent_0.critic_local.load_state_dict(torch.load('checkpoints/checkpoint_critic_0_{}.pth'.format(episode)))\n",
    "    agent_0.critic_target.load_state_dict(torch.load('checkpoints/checkpoint_critic_0_{}.pth'.format(episode)))\n",
    "    agent_1.actor_local.load_state_dict(torch.load('checkpoints/checkpoint_actor_1_{}.pth'.format(episode)))\n",
    "    agent_1.actor_target.load_state_dict(torch.load('checkpoints/checkpoint_actor_1_{}.pth'.format(episode)))\n",
    "    agent_1.critic_local.load_state_dict(torch.load('checkpoints/checkpoint_critic_1_{}.pth'.format(episode)))\n",
    "    agent_1.critic_target.load_state_dict(torch.load('checkpoints/checkpoint_critic_1_{}.pth'.format(episode)))"
   ]
  },
  {
   "cell_type": "code",
   "execution_count": 12,
   "metadata": {},
   "outputs": [
    {
     "name": "stdout",
     "output_type": "stream",
     "text": [
      "Episode 100\tAverage Max Score: 0.00\tAgent 0 Score: 0.00\tAgent 1 Score: -0.01\n",
      "Episode 200\tAverage Max Score: 0.00\tAgent 0 Score: 0.00\tAgent 1 Score: -0.01\n",
      "Episode 300\tAverage Max Score: 0.00\tAgent 0 Score: -0.01\tAgent 1 Score: 0.00\n",
      "Episode 400\tAverage Max Score: 0.01\tAgent 0 Score: 0.00\tAgent 1 Score: -0.01\n",
      "Episode 500\tAverage Max Score: 0.02\tAgent 0 Score: 0.10\tAgent 1 Score: 0.001\n",
      "Episode 600\tAverage Max Score: 0.01\tAgent 0 Score: 0.10\tAgent 1 Score: 0.000\n",
      "Episode 700\tAverage Max Score: 0.02\tAgent 0 Score: 0.00\tAgent 1 Score: 0.001\n",
      "Episode 800\tAverage Max Score: 0.04\tAgent 0 Score: -0.01\tAgent 1 Score: 0.00\n",
      "Episode 900\tAverage Max Score: 0.02\tAgent 0 Score: -0.01\tAgent 1 Score: 0.00\n",
      "Episode 1000\tAverage Max Score: 0.01\tAgent 0 Score: -0.01\tAgent 1 Score: 0.00\n",
      "Episode 1100\tAverage Max Score: 0.03\tAgent 0 Score: 0.00\tAgent 1 Score: -0.01\n",
      "Episode 1200\tAverage Max Score: 0.04\tAgent 0 Score: 0.10\tAgent 1 Score: 0.001\n",
      "Episode 1300\tAverage Max Score: 0.05\tAgent 0 Score: 0.00\tAgent 1 Score: 0.001\n",
      "Episode 1400\tAverage Max Score: 0.05\tAgent 0 Score: -0.01\tAgent 1 Score: 0.00\n",
      "Episode 1500\tAverage Max Score: 0.05\tAgent 0 Score: -0.01\tAgent 1 Score: 0.00\n",
      "Episode 1600\tAverage Max Score: 0.06\tAgent 0 Score: 0.10\tAgent 1 Score: 0.100\n",
      "Episode 1700\tAverage Max Score: 0.06\tAgent 0 Score: 0.10\tAgent 1 Score: 0.001\n",
      "Episode 1800\tAverage Max Score: 0.05\tAgent 0 Score: 0.00\tAgent 1 Score: 0.000\n",
      "Episode 1900\tAverage Max Score: 0.05\tAgent 0 Score: 0.00\tAgent 1 Score: 0.101\n",
      "Episode 2000\tAverage Max Score: 0.05\tAgent 0 Score: 0.00\tAgent 1 Score: 0.001\n",
      "Episode 2100\tAverage Max Score: 0.05\tAgent 0 Score: 0.10\tAgent 1 Score: 0.101\n",
      "Episode 2200\tAverage Max Score: 0.05\tAgent 0 Score: 0.00\tAgent 1 Score: 0.100\n",
      "Episode 2300\tAverage Max Score: 0.05\tAgent 0 Score: 0.00\tAgent 1 Score: 0.001\n",
      "Episode 2400\tAverage Max Score: 0.06\tAgent 0 Score: 0.10\tAgent 1 Score: 0.100\n",
      "Episode 2500\tAverage Max Score: 0.06\tAgent 0 Score: 0.10\tAgent 1 Score: 0.100\n",
      "Episode 2600\tAverage Max Score: 0.06\tAgent 0 Score: 0.10\tAgent 1 Score: 0.001\n",
      "Episode 2700\tAverage Max Score: 0.06\tAgent 0 Score: 0.10\tAgent 1 Score: 0.001\n",
      "Episode 2800\tAverage Max Score: 0.07\tAgent 0 Score: 0.10\tAgent 1 Score: 0.000\n",
      "Episode 2900\tAverage Max Score: 0.06\tAgent 0 Score: 0.10\tAgent 1 Score: 0.001\n",
      "Episode 3000\tAverage Max Score: 0.07\tAgent 0 Score: 0.00\tAgent 1 Score: 0.001\n",
      "Episode 3100\tAverage Max Score: 0.06\tAgent 0 Score: 0.00\tAgent 1 Score: 0.100\n",
      "Episode 3200\tAverage Max Score: 0.07\tAgent 0 Score: 0.00\tAgent 1 Score: 0.000\n",
      "Episode 3300\tAverage Max Score: 0.07\tAgent 0 Score: 0.00\tAgent 1 Score: 0.100\n",
      "Episode 3400\tAverage Max Score: 0.07\tAgent 0 Score: 0.00\tAgent 1 Score: 0.101\n",
      "Episode 3500\tAverage Max Score: 0.07\tAgent 0 Score: 0.00\tAgent 1 Score: -0.01\n",
      "Episode 3600\tAverage Max Score: 0.06\tAgent 0 Score: 0.10\tAgent 1 Score: 0.001\n",
      "Episode 3700\tAverage Max Score: 0.07\tAgent 0 Score: 0.00\tAgent 1 Score: 0.101\n",
      "Episode 3800\tAverage Max Score: 0.07\tAgent 0 Score: 0.00\tAgent 1 Score: 0.101\n",
      "Episode 3900\tAverage Max Score: 0.07\tAgent 0 Score: 0.10\tAgent 1 Score: 0.001\n",
      "Episode 4000\tAverage Max Score: 0.07\tAgent 0 Score: 0.00\tAgent 1 Score: 0.101\n"
     ]
    },
    {
     "data": {
      "image/png": "[encoded data removed]",
      "text/plain": [
       "<Figure size 432x288 with 1 Axes>"
      ]
     },
     "metadata": {
      "needs_background": "light"
     },
     "output_type": "display_data"
    },
    {
     "name": "stdout",
     "output_type": "stream",
     "text": [
      "Episode 100\tAverage Max Score: 1.37\tAgent 0 Score: 2.60\tAgent 1 Score: 2.60\n",
      "Episode 101\tAverage Max Score: 1.38\tAgent 0 Score: 2.00\tAgent 1 Score: 1.99\n",
      "Environment solved in 4001 episodes\n",
      "\n",
      "Episode 101\tAverage Max Score: 1.38\n"
     ]
    },
    {
     "data": {
      "image/png": "[encoded data removed]",
      "text/plain": [
       "<Figure size 432x288 with 1 Axes>"
      ]
     },
     "metadata": {
      "needs_background": "light"
     },
     "output_type": "display_data"
    },
    {
     "name": "stdout",
     "output_type": "stream",
     "text": [
      "The orange line represents the \"solved\" criteria.\n"
     ]
    }
   ],
   "source": [
    "# load_agents() # Optionally load agents to continue training\n",
    "\n",
    "scores = ddpg(4000, 20, 100)\n",
    "\n",
    "fig = plt.figure()\n",
    "ax = fig.add_subplot(111)\n",
    "plt.plot(np.arange(1, len(scores)+1), scores)\n",
    "plt.ylabel('Score')\n",
    "plt.xlabel('Episode #')\n",
    "plt.show()\n",
    "\n",
    "previous_episodes = len(scores)\n",
    "scores = ddpg(1000, 1000, 100, previous_episodes)\n",
    "\n",
    "fig = plt.figure()\n",
    "ax = fig.add_subplot(111)\n",
    "plt.plot(np.arange(previous_episodes, previous_episodes + len(scores)), scores)\n",
    "# Plot solution criteria\n",
    "plt.plot(np.arange(previous_episodes, previous_episodes + len(scores)), list([0.5] * len(scores)))\n",
    "plt.ylabel('Score')\n",
    "plt.xlabel('Episode #')\n",
    "plt.show()\n",
    "\n",
    "print('The orange line represents the \"solved\" criteria.')"
   ]
  },
  {
   "cell_type": "code",
   "execution_count": 13,
   "metadata": {},
   "outputs": [],
   "source": [
    "def run_agent():\n",
    "    env_info = env.reset(train_mode=False)[brain_name]     # reset the environment    \n",
    "    states = env_info.vector_observations                  # get the current state (for each agent)\n",
    "    scores = np.zeros(num_agents)                          # initialize the score (for each agent)\n",
    "    step = 0\n",
    "    while True:\n",
    "        step += 1\n",
    "        actions = agent_0.act(states, add_noise=False)\n",
    "        actions[1] = agent_1.act(states, add_noise=False)[1] # Overwrite with second agent's actions\n",
    "        env_info = env.step(actions)[brain_name]           # send all actions to tne environment\n",
    "        next_states = env_info.vector_observations         # get next state (for each agent)\n",
    "        rewards = env_info.rewards                         # get reward (for each agent)\n",
    "        dones = env_info.local_done                        # see if episode finished\n",
    "        scores += env_info.rewards                         # update the score (for each agent)\n",
    "        states = next_states                               # roll over states to next time step\n",
    "        if np.any(dones):                                  # exit loop if episode finished\n",
    "            print(\"Ball lost at step: {:.2f}, Agent 0 score: {:.2f}, Agent 1 score: {:.2f}\".format(\n",
    "                step, scores[0], scores[1]))\n",
    "            break\n",
    "    print('Highest score this episode: {:.2f}'.format(np.max(scores)))"
   ]
  },
  {
   "cell_type": "code",
   "execution_count": 20,
   "metadata": {
    "scrolled": true
   },
   "outputs": [
    {
     "name": "stdout",
     "output_type": "stream",
     "text": [
      "Ball lost at step: 336.00, Agent 0 score: 0.90, Agent 1 score: 0.79\n",
      "Highest score this episode: 0.90\n"
     ]
    }
   ],
   "source": [
    "# Load agents for demonstration\n",
    "load_agents(episode=4100)\n",
    "\n",
    "# Watch the trained agents\n",
    "run_agent()"
   ]
  },
  {
   "cell_type": "code",
   "execution_count": 21,
   "metadata": {},
   "outputs": [],
   "source": [
    "env.close()"
   ]
  },
  {
   "cell_type": "code",
   "execution_count": null,
   "metadata": {},
   "outputs": [],
   "source": []
  }
 ],
 "metadata": {
  "kernelspec": {
   "display_name": "drlnd",
   "language": "python",
   "name": "drlnd"
  },
  "language_info": {
   "codemirror_mode": {
    "name": "ipython",
    "version": 3
   },
   "file_extension": ".py",
   "mimetype": "text/x-python",
   "name": "python",
   "nbconvert_exporter": "python",
   "pygments_lexer": "ipython3",
   "version": "3.6.8"
  }
 },
 "nbformat": 4,
 "nbformat_minor": 2
}
